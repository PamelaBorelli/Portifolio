{
  "nbformat": 4,
  "nbformat_minor": 0,
  "metadata": {
    "colab": {
      "provenance": []
    },
    "kernelspec": {
      "name": "python3",
      "display_name": "Python 3"
    },
    "language_info": {
      "name": "python"
    }
  },
  "cells": [
    {
      "cell_type": "markdown",
      "source": [
        "# Criação de um chatbot"
      ],
      "metadata": {
        "id": "pne4u2f4-N6d"
      }
    },
    {
      "cell_type": "markdown",
      "source": [
        "## Baixar o modelo"
      ],
      "metadata": {
        "id": "bwhsiRT1lslC"
      }
    },
    {
      "cell_type": "code",
      "source": [
        "from transformers import pipeline\n",
        "\n",
        "# Carrega o modelo BART pré-treinado para classificação de zero-shot\n",
        "pipe = pipeline(model=\"facebook/bart-large-mnli\")"
      ],
      "metadata": {
        "id": "-FFvn8uAlvtq"
      },
      "execution_count": null,
      "outputs": []
    },
    {
      "cell_type": "markdown",
      "source": [
        "## Primeira versão"
      ],
      "metadata": {
        "id": "bkcGMD-Zly0S"
      }
    },
    {
      "cell_type": "code",
      "source": [
        "# Mensagem de boas-vindas\n",
        "print(\"Bem-vindo(a) ao nosso serviço de direcionamento de setores!\")\n",
        "\n",
        "# Exemplo: Classificação de zero-shot para um problema do cliente\n",
        "problema_cliente = input(\"Qual é o seu problema? \")\n",
        "setores_possiveis = [\"pagamento\", \"frete\", \"troca\", \"devolução\", \"suporte ao cliente\"]\n",
        "\n",
        "# Realiza a classificação de zero-shot\n",
        "resultados = pipe(problema_cliente, candidate_labels=setores_possiveis)\n",
        "\n",
        "# Exibe o resultado\n",
        "for i in range(len(resultados['labels'])):\n",
        "    label = resultados['labels'][i]\n",
        "    score = resultados['scores'][i]\n",
        "    print(f\"{label}: {score:.2f}\")\n",
        "\n",
        "# Verifica se o cliente está satisfeito com o setor sugerido\n",
        "setor_escolhido = resultados['labels'][0]\n",
        "confirmacao = input(f\"Você deseja ser direcionado ao setor de {setor_escolhido}? (sim/não): \")\n",
        "\n",
        "if confirmacao.lower() == \"não\":\n",
        "    problema_cliente = input(\"Por favor, reformule o problema: \")\n",
        "    resultados = pipe(problema_cliente, candidate_labels=setores_possiveis)\n",
        "    setor_escolhido = resultados['labels'][0]\n",
        "    print(f\"Você será direcionado ao {setor_escolhido}.\")\n",
        "else:\n",
        "    print(f\"Você será direcionado ao {setor_escolhido}.\")"
      ],
      "metadata": {
        "colab": {
          "base_uri": "https://localhost:8080/"
        },
        "id": "MWQaHVjWKLOA",
        "outputId": "8e3a6c1b-7868-4b71-99c6-cb2fb0bfe8f4"
      },
      "execution_count": null,
      "outputs": [
        {
          "output_type": "stream",
          "name": "stdout",
          "text": [
            "Bem-vindo(a) ao nosso serviço de direcionamento de setores!\n",
            "Qual é o seu problema? O produto que recebi não é igual ao mostrado no site\n",
            "troca: 0.34\n",
            "devolução: 0.31\n",
            "pagamento: 0.12\n",
            "suporte ao cliente: 0.12\n",
            "frete: 0.11\n",
            "Você deseja ser direcionado ao setor de troca? (sim/não): não\n",
            "Por favor, reformule o problema: quero trocar o produto que escolhi\n",
            "Você será direcionado ao troca.\n"
          ]
        }
      ]
    },
    {
      "cell_type": "markdown",
      "source": [
        "## Segunda Versão"
      ],
      "metadata": {
        "id": "C6yZonUel521"
      }
    },
    {
      "cell_type": "code",
      "source": [
        "# Mensagem de boas-vindas\n",
        "print(\"Bem-vindo(a) ao nosso serviço de direcionamento de setores!\")\n",
        "\n",
        "while True:\n",
        "    # Exemplo: Classificação de zero-shot para um problema do cliente\n",
        "    problema_cliente = input(\"Qual é o seu problema? \")\n",
        "    setores_possiveis = [\"pagamento\", \"frete\", \"troca\", \"devolução\", \"suporte ao cliente\"]\n",
        "\n",
        "    # Realiza a classificação de zero-shot\n",
        "    resultados = pipe(problema_cliente, candidate_labels=setores_possiveis)\n",
        "\n",
        "    # Exibe o resultado\n",
        "    for i in range(len(resultados['labels'])):\n",
        "        label = resultados['labels'][i]\n",
        "        score = resultados['scores'][i]\n",
        "        print(f\"{label}: {score:.2f}\")\n",
        "\n",
        "    # Verifica se o cliente está satisfeito com o setor sugerido\n",
        "    setor_escolhido = resultados['labels'][0]\n",
        "    confirmacao = input(f\"Você deseja ser direcionado ao setor de {setor_escolhido}? (sim/não): \")\n",
        "\n",
        "    if confirmacao.lower() == \"não\":\n",
        "        print(\"Por favor, reformule o problema para que possamos ajudá-lo melhor.\")\n",
        "    else:\n",
        "        print(f\"Você será direcionado ao {setor_escolhido}.\")\n",
        "        break"
      ],
      "metadata": {
        "colab": {
          "base_uri": "https://localhost:8080/"
        },
        "id": "urf3gfV4Kod8",
        "outputId": "0771f4da-5051-4eec-afeb-a33e9393350b"
      },
      "execution_count": null,
      "outputs": [
        {
          "output_type": "stream",
          "name": "stdout",
          "text": [
            "Bem-vindo(a) ao nosso serviço de direcionamento de setores!\n",
            "Qual é o seu problema? O produto que recebi não é igual ao mostrado no site\n",
            "troca: 0.34\n",
            "devolução: 0.31\n",
            "pagamento: 0.12\n",
            "suporte ao cliente: 0.12\n",
            "frete: 0.11\n",
            "Você deseja ser direcionado ao setor de troca? (sim/não): não\n",
            "Por favor, reformule o problema para que possamos ajudá-lo melhor.\n",
            "Qual é o seu problema? quero a devolução do produto e ressarcimento do que paguei\n",
            "pagamento: 0.48\n",
            "devolução: 0.45\n",
            "suporte ao cliente: 0.05\n",
            "frete: 0.02\n",
            "troca: 0.01\n",
            "Você deseja ser direcionado ao setor de pagamento? (sim/não): sim\n",
            "Você será direcionado ao pagamento.\n"
          ]
        }
      ]
    },
    {
      "cell_type": "markdown",
      "source": [
        "## Terceira Versão"
      ],
      "metadata": {
        "id": "sPZpGvl5l9ZD"
      }
    },
    {
      "cell_type": "code",
      "source": [
        "print(\"Para nós a satisfação do cliente é nossa prioridade!\")\n",
        "\n",
        "while True:\n",
        "    problema_cliente = input(\"Você pode nos contar mais sobre sua insatisfação?\")\n",
        "    setores_possiveis = [\"Cobrança\", \"Entrega\", \"Troca\", \"Devolução\", \"Suporte ao Cliente\"]\n",
        "    resultados = pipe(problema_cliente, candidate_labels=setores_possiveis)\n",
        "\n",
        "    # Exibe o resultado\n",
        "    for i in range(len(resultados['labels'])):\n",
        "        label = resultados['labels'][i]\n",
        "        score = resultados['scores'][i]\n",
        "        print(f\"{label}: {score:.2f}\")\n",
        "\n",
        "    # Verifica se o cliente está satisfeito com o setor sugerido\n",
        "    setor_escolhido = resultados['labels'][0]\n",
        "    segunda_opcao = resultados['labels'][1]\n",
        "    diferenca = abs(resultados['scores'][0] - resultados['scores'][1])\n",
        "\n",
        "    if diferenca < 0.09:\n",
        "        escolha_cliente = input(f\"Qual setor atende melhor sua solicitação {setor_escolhido} ou {segunda_opcao} ? \")\n",
        "        if escolha_cliente.lower() == setor_escolhido.lower():\n",
        "            print(f\"Você será direcionado ao {setor_escolhido} e terá ajuda de um atendente.\")\n",
        "        else:\n",
        "            print(f\"Você será direcionado ao {segunda_opcao} e terá ajuda de um atendente.\")\n",
        "    else:\n",
        "        confirmacao = input(f\"Você deseja ser direcionado ao setor de {setor_escolhido}? (sim/não): \")\n",
        "        if confirmacao.lower() == \"não\":\n",
        "            print(\"Por favor, reformule o problema para que possamos ajudá-lo melhor.\")\n",
        "        else:\n",
        "            print(f\"Você será direcionado ao setor {setor_escolhido} e terá ajuda de um atendente.\")\n",
        "    break"
      ],
      "metadata": {
        "colab": {
          "base_uri": "https://localhost:8080/"
        },
        "id": "uD0FW-18LNJU",
        "outputId": "db72729e-f24d-4dc6-f98a-371d6bf9a159"
      },
      "execution_count": null,
      "outputs": [
        {
          "output_type": "stream",
          "name": "stdout",
          "text": [
            "Para nós a satisfação do cliente é nossa prioridade!\n",
            "Você pode nos contar mais sobre sua insatisfação?O produto que recebi não é igual ao mostrado no site\n",
            "Devolução: 0.32\n",
            "Suporte ao Cliente: 0.28\n",
            "Entrega: 0.15\n",
            "Cobrança: 0.13\n",
            "Troca: 0.12\n",
            "Qual setor atende melhor sua solicitação Devolução ou Suporte ao Cliente ? Devolução\n",
            "Você será direcionado ao Devolução e terá ajuda de um atendente.\n"
          ]
        }
      ]
    }
  ]
}